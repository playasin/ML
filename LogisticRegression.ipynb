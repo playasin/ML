{
 "cells": [
  {
   "cell_type": "code",
   "execution_count": 2,
   "metadata": {
    "collapsed": true
   },
   "outputs": [],
   "source": [
    "import tensorflow as tf\n",
    "import numpy as np\n",
    "import matplotlib.pyplot as plt\n",
    "%matplotlib inline"
   ]
  },
  {
   "cell_type": "code",
   "execution_count": 3,
   "metadata": {},
   "outputs": [],
   "source": [
    "samples = 1000\n",
    "data = [float(i)*0.01 for i in range(-samples, samples)]\n",
    "label = [1 if i > 2.5 else 0 for i in data]\n",
    "\n",
    "#print(data[:10], data[-10:])\n",
    "#print(label[:10], label[-10:])\n",
    "#print(len(data), len(label))"
   ]
  },
  {
   "cell_type": "code",
   "execution_count": 4,
   "metadata": {},
   "outputs": [
    {
     "name": "stdout",
     "output_type": "stream",
     "text": [
      "INFO:tensorflow:logits.dtype=<dtype: 'float32'>.\n",
      "INFO:tensorflow:multi_class_labels.dtype=<dtype: 'float32'>.\n",
      "INFO:tensorflow:losses.dtype=<dtype: 'float32'>.\n"
     ]
    }
   ],
   "source": [
    "x = tf.placeholder(tf.float32)\n",
    "y_ = tf.placeholder(tf.float32)\n",
    "\n",
    "w = tf.Variable(0, dtype=tf.float32)\n",
    "b = tf.Variable(0, dtype=tf.float32)\n",
    "\n",
    "y = w*x + b\n",
    "\n",
    "pred = tf.nn.sigmoid(y) #실제 예측 값\n",
    "\n",
    "loss = tf.losses.sigmoid_cross_entropy(y_, y) #실제 값과 예측 값 차\n",
    "train_op = tf.train.GradientDescentOptimizer(1e-2).minimize(loss)"
   ]
  },
  {
   "cell_type": "code",
   "execution_count": 5,
   "metadata": {},
   "outputs": [
    {
     "name": "stdout",
     "output_type": "stream",
     "text": [
      "loss:  0.693147\n",
      "prediction:  [ 0.44137895  0.44143674  0.44149452 ...,  0.55782872  0.55788648\n",
      "  0.5579443 ]\n",
      "loss:  0.226943\n",
      "prediction:  [ 0.005665    0.00569351  0.00572216 ...,  0.99270815  0.99274457\n",
      "  0.99278086]\n",
      "loss:  0.204041\n",
      "prediction:  [ 0.00186703  0.00187835  0.00188973 ...,  0.99699533  0.99701345\n",
      "  0.99703133]\n",
      "loss:  0.190745\n",
      "prediction:  [ 0.00101717  0.00102385  0.00103058 ...,  0.99798453  0.9979977\n",
      "  0.99801081]\n",
      "loss:  0.180339\n",
      "prediction:  [  6.76695840e-04   6.81356410e-04   6.86048763e-04 ...,   9.98370588e-01\n",
      "   9.98381734e-01   9.98392761e-01]\n",
      "loss:  0.171513\n",
      "prediction:  [  4.96712339e-04   5.00243157e-04   5.03798772e-04 ...,   9.98563468e-01\n",
      "   9.98573542e-01   9.98583555e-01]\n",
      "loss:  0.163812\n",
      "prediction:  [  3.84454062e-04   3.87252920e-04   3.90072120e-04 ...,   9.98678625e-01\n",
      "   9.98688161e-01   9.98697639e-01]\n",
      "loss:  0.157008\n",
      "prediction:  [  3.06645379e-04   3.08923045e-04   3.11217271e-04 ...,   9.98759866e-01\n",
      "   9.98768866e-01   9.98778045e-01]\n",
      "loss:  0.150947\n",
      "prediction:  [  2.48952536e-04   2.50834506e-04   2.52730737e-04 ...,   9.98825729e-01\n",
      "   9.98834550e-01   9.98843312e-01]\n",
      "loss:  0.145516\n",
      "prediction:  [  2.04329728e-04   2.05900375e-04   2.07482895e-04 ...,   9.98885214e-01\n",
      "   9.98893797e-01   9.98902082e-01]\n"
     ]
    },
    {
     "data": {
      "image/png": "[encoded data removed]",
      "text/plain": [
       "<matplotlib.figure.Figure at 0x2719324e5f8>"
      ]
     },
     "metadata": {},
     "output_type": "display_data"
    }
   ],
   "source": [
    "with tf.Session() as sess:\n",
    "    sess.run(tf.global_variables_initializer())\n",
    "    \n",
    "    loss_col = []\n",
    "    \n",
    "    for i in range(1000):\n",
    "        _, _loss = sess.run([train_op, loss], feed_dict={x: data, y_: label})\n",
    "        loss_col.append(_loss)\n",
    "                \n",
    "        _pred = sess.run(pred, feed_dict={x: data})\n",
    "        \n",
    "        if i%100 == 0:\n",
    "            print(\"loss: \", _loss)\n",
    "            print(\"prediction: \", _pred)\n",
    "            plt.scatter(data, _pred, 1, 'b')\n",
    "            #print(\"label data: \", y_, \", pred data: \", _pred)\n",
    "        \n",
    "    #plt.plot(_pred, 'g')    \n",
    "    plt.scatter(data, label, 1, 'r')\n",
    "    plt.show()\n",
    "\n",
    "            "
   ]
  },
  {
   "cell_type": "code",
   "execution_count": null,
   "metadata": {
    "collapsed": true
   },
   "outputs": [],
   "source": []
  }
 ],
 "metadata": {
  "kernelspec": {
   "display_name": "Python 3",
   "language": "python",
   "name": "python3"
  },
  "language_info": {
   "codemirror_mode": {
    "name": "ipython",
    "version": 3
   },
   "file_extension": ".py",
   "mimetype": "text/x-python",
   "name": "python",
   "nbconvert_exporter": "python",
   "pygments_lexer": "ipython3",
   "version": "3.6.1"
  }
 },
 "nbformat": 4,
 "nbformat_minor": 2
}
