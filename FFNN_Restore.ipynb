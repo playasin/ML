{
 "cells": [
  {
   "cell_type": "code",
   "execution_count": 3,
   "metadata": {},
   "outputs": [
    {
     "name": "stdout",
     "output_type": "stream",
     "text": [
      "<tf.Variable '11/kernel:0' shape=(10, 10) dtype=float32_ref>\n",
      "<tf.Variable '11/bias:0' shape=(10,) dtype=float32_ref>\n",
      "<tf.Variable '12/kernel:0' shape=(10, 5) dtype=float32_ref>\n",
      "<tf.Variable '12/bias:0' shape=(5,) dtype=float32_ref>\n",
      "<tf.Variable '13/kernel:0' shape=(5, 7) dtype=float32_ref>\n",
      "<tf.Variable '13/bias:0' shape=(7,) dtype=float32_ref>\n",
      "<tf.Variable '14/kernel:0' shape=(7, 1) dtype=float32_ref>\n",
      "<tf.Variable '14/bias:0' shape=(1,) dtype=float32_ref>\n",
      "INFO:tensorflow:Restoring parameters from ./log/ffnn_model\n",
      "[ 0.99985337]\n",
      "[ 0.00014419]\n",
      "[ 0.99985337]\n",
      "[ 0.00014419]\n",
      "[ 0.99985337]\n",
      "[ 0.00014419]\n",
      "[ 0.99985337]\n",
      "[ 0.00014419]\n",
      "[ 0.99985337]\n",
      "[ 0.00014419]\n"
     ]
    }
   ],
   "source": [
    "import tensorflow as tf\n",
    "import numpy as np\n",
    "import matplotlib.pyplot as plt\n",
    "%matplotlib inline\n",
    "\n",
    "samples = 100000\n",
    "up = [i for i in range(10)]\n",
    "down = [9-i for i in range(10)]\n",
    "\n",
    "data = [up if i%2 == 0 else down for i in range(samples)]\n",
    "label = [[1] if i%2 == 0 else [0] for i in range(samples)]\n",
    "\n",
    "x = tf.placeholder(tf.float32, shape=[None, 10]) #x 데이터의 개수를 모를 때 None\n",
    "y_ = tf.placeholder(tf.float32, shape=[None, 1]) #y 데이터의 개수를 모를 때 None\n",
    "\n",
    "layer1 = tf.layers.dense(x, units=10, name='11') #shitf+tab을 누르면 signature가 나옴\n",
    "layer2 = tf.layers.dense(layer1, units=5, name='12')\n",
    "layer3 = tf.layers.dense(layer2, units=7, name='13')\n",
    "output = tf.layers.dense(layer3, units=1, name='14')\n",
    "\n",
    "variables = tf.trainable_variables()\n",
    "for v in variables:\n",
    "    print(v)\n",
    "\n",
    "saver = tf.train.Saver(variables)\n",
    "\n",
    "pred = tf.nn.sigmoid(output)\n",
    "accuracy = tf.metrics.accuracy(y_, tf.round(pred))\n",
    "\n",
    "with tf.Session() as sess:\n",
    "    saver.restore(sess, \"./log/ffnn_model\")\n",
    "    _pred = sess.run(pred, feed_dict={x: data})\n",
    "    \n",
    "    for p in _pred[:10]:\n",
    "        print(p)"
   ]
  },
  {
   "cell_type": "code",
   "execution_count": null,
   "metadata": {
    "collapsed": true
   },
   "outputs": [],
   "source": []
  }
 ],
 "metadata": {
  "kernelspec": {
   "display_name": "Python 3",
   "language": "python",
   "name": "python3"
  },
  "language_info": {
   "codemirror_mode": {
    "name": "ipython",
    "version": 3
   },
   "file_extension": ".py",
   "mimetype": "text/x-python",
   "name": "python",
   "nbconvert_exporter": "python",
   "pygments_lexer": "ipython3",
   "version": "3.6.1"
  }
 },
 "nbformat": 4,
 "nbformat_minor": 2
}
