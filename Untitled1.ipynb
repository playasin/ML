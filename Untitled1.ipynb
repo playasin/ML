{
 "cells": [
  {
   "cell_type": "code",
   "execution_count": 6,
   "metadata": {},
   "outputs": [
    {
     "name": "stdout",
     "output_type": "stream",
     "text": [
      "[[0, 1], [0, 1], [2, 3], [2, 3], [4, 5], [4, 5], [6, 7], [6, 7], [8, 9], [8, 9]]\n",
      "[[1, 0, 0, 0, 0], [1, 0, 0, 0, 0], [0, 1, 0, 0, 0], [0, 1, 0, 0, 0], [0, 0, 1, 0, 0], [0, 0, 1, 0, 0], [0, 0, 0, 1, 0], [0, 0, 0, 1, 0], [0, 0, 0, 0, 1], [0, 0, 0, 0, 1]]\n"
     ]
    }
   ],
   "source": [
    "import tensorflow as tf\n",
    "import numpy as np\n",
    "import matplotlib.pyplot as plt\n",
    "%matplotlib inline\n",
    "\n",
    "a = [0, 1]\n",
    "b = [2, 3]\n",
    "c = [4, 5]\n",
    "d = [6, 7]\n",
    "e = [8, 9]\n",
    "\n",
    "a_label = [1, 0, 0, 0, 0]\n",
    "b_label = [0, 1, 0, 0, 0]\n",
    "c_label = [0, 0, 1, 0, 0]\n",
    "d_label = [0, 0, 0, 1, 0]\n",
    "e_label = [0, 0, 0, 0, 1]\n",
    "\n",
    "samples = 1000\n",
    "data = []\n",
    "label = []\n",
    "\n",
    "for i in range(samples):\n",
    "    if i%10==0 or i%10==1:\n",
    "        data.append(a)\n",
    "    elif i%10==2 or i%10==3:\n",
    "        data.append(b)\n",
    "    elif i%10==4 or i%10==5:\n",
    "        data.append(c)\n",
    "    elif i%10==6 or i%10==7:\n",
    "        data.append(d)\n",
    "    else:\n",
    "        data.append(e)\n",
    "\n",
    "for i in range(samples):\n",
    "    if i%10==0 or i%10==1:\n",
    "        label.append(a_label)\n",
    "    elif i%10==2 or i%10==3:\n",
    "        label.append(b_label)\n",
    "    elif i%10==4 or i%10==5:\n",
    "        label.append(c_label)\n",
    "    elif i%10==6 or i%10==7:\n",
    "        label.append(d_label)\n",
    "    else:\n",
    "        label.append(e_label)"
   ]
  },
  {
   "cell_type": "code",
   "execution_count": null,
   "metadata": {
    "collapsed": true
   },
   "outputs": [],
   "source": [
    "x = tf.placeholder(tf.float32)\n",
    "y_ = tf.placeholder(tf.float32)\n",
    "\n",
    "w = tf.Variable(0, dtype=tf.float32)\n",
    "b = tf.Variable(0, dtype=tf.float32)\n",
    "\n",
    "y = x*w + b\n",
    "\n",
    "pred = tf.nn.sigmoid(y) #실제 예측 값\n",
    "\n",
    "loss = tf.losses.sigmoid_cross_entropy(y_, y) #실제 값과 예측 값 차\n",
    "train_op = tf.train.GradientDescentOptimizer(1e-2).minimize(loss)\n",
    "\n"
   ]
  }
 ],
 "metadata": {
  "kernelspec": {
   "display_name": "Python 3",
   "language": "python",
   "name": "python3"
  },
  "language_info": {
   "codemirror_mode": {
    "name": "ipython",
    "version": 3
   },
   "file_extension": ".py",
   "mimetype": "text/x-python",
   "name": "python",
   "nbconvert_exporter": "python",
   "pygments_lexer": "ipython3",
   "version": "3.6.1"
  }
 },
 "nbformat": 4,
 "nbformat_minor": 2
}
