{
 "cells": [
  {
   "cell_type": "code",
   "execution_count": 6,
   "metadata": {
    "collapsed": true
   },
   "outputs": [],
   "source": [
    "import tensorflow as tf\n",
    "import numpy as np\n",
    "import matplotlib.pyplot as plt #Graph Tool\n",
    "%matplotlib inline\n",
    "#inline을 적어줘야 안에서 Graph를 볼 수 있음"
   ]
  },
  {
   "cell_type": "code",
   "execution_count": 50,
   "metadata": {
    "scrolled": true
   },
   "outputs": [
    {
     "data": {
      "image/png": "[encoded data removed]",
      "text/plain": [
       "<matplotlib.figure.Figure at 0x2a34cf4e780>"
      ]
     },
     "metadata": {},
     "output_type": "display_data"
    }
   ],
   "source": [
    "samples = 1000\n",
    "#data = [i for i in range(samples)] #array로 변환하지 않으면 list가 append 되는 형태가 됨. 따라서 array로 변환 해줘야 함\n",
    "data = np.array([i*0.1 for i in range(samples)], np.float32)\n",
    "#print(data[:10])\n",
    "label = 3 * data + 2.4 + np.random.randn(samples) #randn = random normal\n",
    "#print(label[:20])\n",
    "\n",
    "plt.scatter(data, label, 1, 'r') #plot은 선으로 그려주는 것이고, scatter로 그리면 점으로 표시됨\n",
    "plt.show()"
   ]
  },
  {
   "cell_type": "code",
   "execution_count": 51,
   "metadata": {
    "collapsed": true
   },
   "outputs": [],
   "source": [
    "x = tf.placeholder(tf.float32)\n",
    "y_ = tf.placeholder(tf.float32)"
   ]
  },
  {
   "cell_type": "code",
   "execution_count": 52,
   "metadata": {
    "collapsed": true
   },
   "outputs": [],
   "source": [
    "w = tf.Variable(0, dtype=tf.float32)\n",
    "b = tf.Variable(0, dtype=tf.float32)"
   ]
  },
  {
   "cell_type": "code",
   "execution_count": 53,
   "metadata": {
    "collapsed": true
   },
   "outputs": [],
   "source": [
    "y = w*x + b"
   ]
  },
  {
   "cell_type": "code",
   "execution_count": 54,
   "metadata": {
    "collapsed": true
   },
   "outputs": [],
   "source": [
    "loss = tf.losses.mean_squared_error(y_, y)\n",
    "train_op = tf.train.GradientDescentOptimizer(1e-6).minimize(loss) #learning_rate"
   ]
  },
  {
   "cell_type": "code",
   "execution_count": 62,
   "metadata": {},
   "outputs": [
    {
     "name": "stdout",
     "output_type": "stream",
     "text": [
      "30677.7\n",
      "26841.2\n",
      "23484.5\n",
      "20547.7\n",
      "17978.1\n",
      "15729.9\n",
      "13762.9\n",
      "12041.9\n",
      "10536.1\n",
      "9218.7\n",
      "8066.02\n",
      "7057.51\n",
      "6175.14\n",
      "5403.12\n",
      "4727.65\n",
      "4136.66\n",
      "3619.59\n",
      "3167.19\n",
      "2771.36\n",
      "2425.04\n",
      "2122.04\n",
      "1856.93\n",
      "1624.98\n",
      "1422.03\n",
      "1244.47\n",
      "1089.12\n",
      "953.194\n",
      "834.268\n",
      "730.217\n",
      "639.179\n",
      "559.527\n",
      "489.837\n",
      "428.862\n",
      "375.514\n",
      "328.837\n",
      "288.0\n",
      "252.269\n",
      "221.007\n",
      "193.655\n",
      "169.723\n",
      "148.785\n",
      "130.465\n",
      "114.437\n",
      "100.413\n",
      "88.1438\n",
      "77.4086\n",
      "68.0161\n",
      "59.7979\n",
      "52.6077\n",
      "46.317\n",
      "40.8129\n",
      "35.9971\n",
      "31.7835\n",
      "28.097\n",
      "24.8716\n",
      "22.0497\n",
      "19.5804\n",
      "17.4203\n",
      "15.5303\n",
      "13.8766\n",
      "12.4297\n",
      "11.1639\n",
      "10.0562\n",
      "9.08711\n",
      "8.23931\n",
      "7.49743\n",
      "6.84839\n",
      "6.28052\n",
      "5.78365\n",
      "5.34894\n",
      "4.96855\n",
      "4.6358\n",
      "4.34461\n",
      "4.08989\n",
      "3.86702\n",
      "3.672\n",
      "3.50138\n",
      "3.35204\n",
      "3.2214\n",
      "3.10715\n",
      "3.00714\n",
      "2.91965\n",
      "2.84306\n",
      "2.77608\n",
      "2.71748\n",
      "2.66614\n",
      "2.62128\n",
      "2.58203\n",
      "2.54768\n",
      "2.51764\n",
      "2.49134\n",
      "2.46834\n",
      "2.44821\n",
      "2.43058\n",
      "2.41516\n",
      "2.40165\n",
      "2.38982\n",
      "2.3795\n",
      "2.37047\n",
      "2.36256\n"
     ]
    },
    {
     "data": {
      "image/png": "[encoded data removed]",
      "text/plain": [
       "<matplotlib.figure.Figure at 0x2a3512705c0>"
      ]
     },
     "metadata": {},
     "output_type": "display_data"
    }
   ],
   "source": [
    "with tf.Session() as sess:\n",
    "    sess.run(tf.global_variables_initializer())\n",
    "    \n",
    "    for i in range(1000):\n",
    "        _, _loss = sess.run([train_op, loss], feed_dict={x: data, y_: label}) #앞에 _는 return 받을 게 없다는 의미임\n",
    "        if i%10 == 0:\n",
    "            print(_loss)\n",
    "        \n",
    "    _pred = sess.run(y, feed_dict={x: data})\n",
    "    plt.scatter(data, _pred, 2, 'g')\n",
    "    plt.scatter(data, label, 1, 'r')\n",
    "    plt.show()"
   ]
  },
  {
   "cell_type": "code",
   "execution_count": null,
   "metadata": {
    "collapsed": true
   },
   "outputs": [],
   "source": []
  }
 ],
 "metadata": {
  "kernelspec": {
   "display_name": "Python 3",
   "language": "python",
   "name": "python3"
  },
  "language_info": {
   "codemirror_mode": {
    "name": "ipython",
    "version": 3
   },
   "file_extension": ".py",
   "mimetype": "text/x-python",
   "name": "python",
   "nbconvert_exporter": "python",
   "pygments_lexer": "ipython3",
   "version": "3.6.1"
  }
 },
 "nbformat": 4,
 "nbformat_minor": 2
}
